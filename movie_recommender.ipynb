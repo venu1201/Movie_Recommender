{
 "cells": [
  {
   "cell_type": "code",
   "execution_count": 1,
   "id": "b9be12f5-1633-4c5b-81ad-bf43cf8726d2",
   "metadata": {},
   "outputs": [],
   "source": [
    "import numpy as np\n",
    "import pandas as pd"
   ]
  },
  {
   "cell_type": "code",
   "execution_count": 2,
   "id": "ca087224-c5d6-40f9-a075-b33e0bfa26af",
   "metadata": {},
   "outputs": [],
   "source": [
    "movies=pd.read_csv('movies.csv',usecols=['movieId','title'])\n",
    "ratings=pd.read_csv('ratings.csv',usecols=['userId','movieId','rating'])\n",
    "data=pd.merge(ratings,movies,on='movieId')\n",
    "movie_ratings=(data.groupby(by=['title'])['rating'].count().reset_index().rename(columns={'rating':'total_ratings'}))\n",
    "data=pd.merge(data,movie_ratings,on='title')\n",
    "data['total_ratings'].describe()\n",
    "data=data[data['total_ratings'] > 50]\n",
    "table=data.pivot_table(index='title',columns='userId',values='rating').fillna(0)\n"
   ]
  },
  {
   "cell_type": "code",
   "execution_count": 3,
   "id": "8bd00fe0-7758-4bb0-94a5-dddda3f84b6d",
   "metadata": {},
   "outputs": [
    {
     "data": {
      "text/html": [
       "<div>\n",
       "<style scoped>\n",
       "    .dataframe tbody tr th:only-of-type {\n",
       "        vertical-align: middle;\n",
       "    }\n",
       "\n",
       "    .dataframe tbody tr th {\n",
       "        vertical-align: top;\n",
       "    }\n",
       "\n",
       "    .dataframe thead th {\n",
       "        text-align: right;\n",
       "    }\n",
       "</style>\n",
       "<table border=\"1\" class=\"dataframe\">\n",
       "  <thead>\n",
       "    <tr style=\"text-align: right;\">\n",
       "      <th>userId</th>\n",
       "      <th>1</th>\n",
       "      <th>2</th>\n",
       "      <th>3</th>\n",
       "      <th>4</th>\n",
       "      <th>5</th>\n",
       "      <th>6</th>\n",
       "      <th>7</th>\n",
       "      <th>8</th>\n",
       "      <th>9</th>\n",
       "      <th>10</th>\n",
       "      <th>...</th>\n",
       "      <th>601</th>\n",
       "      <th>602</th>\n",
       "      <th>603</th>\n",
       "      <th>604</th>\n",
       "      <th>605</th>\n",
       "      <th>606</th>\n",
       "      <th>607</th>\n",
       "      <th>608</th>\n",
       "      <th>609</th>\n",
       "      <th>610</th>\n",
       "    </tr>\n",
       "    <tr>\n",
       "      <th>title</th>\n",
       "      <th></th>\n",
       "      <th></th>\n",
       "      <th></th>\n",
       "      <th></th>\n",
       "      <th></th>\n",
       "      <th></th>\n",
       "      <th></th>\n",
       "      <th></th>\n",
       "      <th></th>\n",
       "      <th></th>\n",
       "      <th></th>\n",
       "      <th></th>\n",
       "      <th></th>\n",
       "      <th></th>\n",
       "      <th></th>\n",
       "      <th></th>\n",
       "      <th></th>\n",
       "      <th></th>\n",
       "      <th></th>\n",
       "      <th></th>\n",
       "      <th></th>\n",
       "    </tr>\n",
       "  </thead>\n",
       "  <tbody>\n",
       "    <tr>\n",
       "      <th>10 Things I Hate About You (1999)</th>\n",
       "      <td>0.0</td>\n",
       "      <td>0.0</td>\n",
       "      <td>0.0</td>\n",
       "      <td>0.0</td>\n",
       "      <td>0.0</td>\n",
       "      <td>0.0</td>\n",
       "      <td>0.0</td>\n",
       "      <td>0.0</td>\n",
       "      <td>0.0</td>\n",
       "      <td>0.0</td>\n",
       "      <td>...</td>\n",
       "      <td>0.0</td>\n",
       "      <td>0.0</td>\n",
       "      <td>3.0</td>\n",
       "      <td>0.0</td>\n",
       "      <td>5.0</td>\n",
       "      <td>0.0</td>\n",
       "      <td>0.0</td>\n",
       "      <td>0.0</td>\n",
       "      <td>0.0</td>\n",
       "      <td>0.0</td>\n",
       "    </tr>\n",
       "  </tbody>\n",
       "</table>\n",
       "<p>1 rows × 606 columns</p>\n",
       "</div>"
      ],
      "text/plain": [
       "userId                             1    2    3    4    5    6    7    8    \\\n",
       "title                                                                       \n",
       "10 Things I Hate About You (1999)  0.0  0.0  0.0  0.0  0.0  0.0  0.0  0.0   \n",
       "\n",
       "userId                             9    10   ...  601  602  603  604  605  \\\n",
       "title                                        ...                            \n",
       "10 Things I Hate About You (1999)  0.0  0.0  ...  0.0  0.0  3.0  0.0  5.0   \n",
       "\n",
       "userId                             606  607  608  609  610  \n",
       "title                                                       \n",
       "10 Things I Hate About You (1999)  0.0  0.0  0.0  0.0  0.0  \n",
       "\n",
       "[1 rows x 606 columns]"
      ]
     },
     "execution_count": 3,
     "metadata": {},
     "output_type": "execute_result"
    }
   ],
   "source": [
    "table.head(1)"
   ]
  },
  {
   "cell_type": "code",
   "execution_count": 4,
   "id": "0a114e2f-edc2-477c-a63f-c5d80e3dabb4",
   "metadata": {},
   "outputs": [],
   "source": [
    "from scipy.sparse import csr_matrix\n",
    "points = csr_matrix(table.values)"
   ]
  },
  {
   "cell_type": "code",
   "execution_count": 5,
   "id": "1677225d-ef83-427e-9a70-56f102cdea40",
   "metadata": {},
   "outputs": [
    {
     "name": "stdout",
     "output_type": "stream",
     "text": [
      "  (0, 11)\t5.0\n",
      "  (0, 18)\t3.0\n",
      "  (0, 66)\t4.5\n",
      "  (0, 90)\t5.0\n",
      "  (0, 102)\t5.0\n",
      "  (0, 109)\t4.0\n",
      "  (0, 130)\t4.0\n",
      "  (0, 151)\t1.0\n",
      "  (0, 156)\t3.5\n",
      "  (0, 174)\t4.5\n",
      "  (0, 179)\t4.0\n",
      "  (0, 195)\t1.0\n",
      "  (0, 197)\t5.0\n",
      "  (0, 216)\t2.0\n",
      "  (0, 233)\t5.0\n",
      "  (0, 246)\t3.5\n",
      "  (0, 257)\t4.5\n",
      "  (0, 271)\t3.0\n",
      "  (0, 272)\t4.0\n",
      "  (0, 277)\t4.0\n",
      "  (0, 283)\t3.0\n",
      "  (0, 295)\t2.5\n",
      "  (0, 304)\t0.5\n",
      "  (0, 313)\t3.0\n",
      "  (0, 322)\t3.0\n",
      "  :\t:\n",
      "  (436, 378)\t2.0\n",
      "  (436, 384)\t3.0\n",
      "  (436, 410)\t0.5\n",
      "  (436, 411)\t4.0\n",
      "  (436, 416)\t4.0\n",
      "  (436, 417)\t4.0\n",
      "  (436, 421)\t3.0\n",
      "  (436, 423)\t2.0\n",
      "  (436, 435)\t2.5\n",
      "  (436, 444)\t3.0\n",
      "  (436, 476)\t4.5\n",
      "  (436, 479)\t5.0\n",
      "  (436, 480)\t4.5\n",
      "  (436, 485)\t1.5\n",
      "  (436, 491)\t5.0\n",
      "  (436, 521)\t4.0\n",
      "  (436, 530)\t4.0\n",
      "  (436, 538)\t1.5\n",
      "  (436, 556)\t4.0\n",
      "  (436, 557)\t3.0\n",
      "  (436, 569)\t5.0\n",
      "  (436, 585)\t2.5\n",
      "  (436, 595)\t4.5\n",
      "  (436, 603)\t3.0\n",
      "  (436, 605)\t4.0\n"
     ]
    }
   ],
   "source": [
    "print(points)"
   ]
  },
  {
   "cell_type": "code",
   "execution_count": 6,
   "id": "83c65057-fa9e-4a39-9c94-bb76989f538c",
   "metadata": {},
   "outputs": [
    {
     "data": {
      "text/html": [
       "<style>#sk-container-id-1 {color: black;}#sk-container-id-1 pre{padding: 0;}#sk-container-id-1 div.sk-toggleable {background-color: white;}#sk-container-id-1 label.sk-toggleable__label {cursor: pointer;display: block;width: 100%;margin-bottom: 0;padding: 0.3em;box-sizing: border-box;text-align: center;}#sk-container-id-1 label.sk-toggleable__label-arrow:before {content: \"▸\";float: left;margin-right: 0.25em;color: #696969;}#sk-container-id-1 label.sk-toggleable__label-arrow:hover:before {color: black;}#sk-container-id-1 div.sk-estimator:hover label.sk-toggleable__label-arrow:before {color: black;}#sk-container-id-1 div.sk-toggleable__content {max-height: 0;max-width: 0;overflow: hidden;text-align: left;background-color: #f0f8ff;}#sk-container-id-1 div.sk-toggleable__content pre {margin: 0.2em;color: black;border-radius: 0.25em;background-color: #f0f8ff;}#sk-container-id-1 input.sk-toggleable__control:checked~div.sk-toggleable__content {max-height: 200px;max-width: 100%;overflow: auto;}#sk-container-id-1 input.sk-toggleable__control:checked~label.sk-toggleable__label-arrow:before {content: \"▾\";}#sk-container-id-1 div.sk-estimator input.sk-toggleable__control:checked~label.sk-toggleable__label {background-color: #d4ebff;}#sk-container-id-1 div.sk-label input.sk-toggleable__control:checked~label.sk-toggleable__label {background-color: #d4ebff;}#sk-container-id-1 input.sk-hidden--visually {border: 0;clip: rect(1px 1px 1px 1px);clip: rect(1px, 1px, 1px, 1px);height: 1px;margin: -1px;overflow: hidden;padding: 0;position: absolute;width: 1px;}#sk-container-id-1 div.sk-estimator {font-family: monospace;background-color: #f0f8ff;border: 1px dotted black;border-radius: 0.25em;box-sizing: border-box;margin-bottom: 0.5em;}#sk-container-id-1 div.sk-estimator:hover {background-color: #d4ebff;}#sk-container-id-1 div.sk-parallel-item::after {content: \"\";width: 100%;border-bottom: 1px solid gray;flex-grow: 1;}#sk-container-id-1 div.sk-label:hover label.sk-toggleable__label {background-color: #d4ebff;}#sk-container-id-1 div.sk-serial::before {content: \"\";position: absolute;border-left: 1px solid gray;box-sizing: border-box;top: 0;bottom: 0;left: 50%;z-index: 0;}#sk-container-id-1 div.sk-serial {display: flex;flex-direction: column;align-items: center;background-color: white;padding-right: 0.2em;padding-left: 0.2em;position: relative;}#sk-container-id-1 div.sk-item {position: relative;z-index: 1;}#sk-container-id-1 div.sk-parallel {display: flex;align-items: stretch;justify-content: center;background-color: white;position: relative;}#sk-container-id-1 div.sk-item::before, #sk-container-id-1 div.sk-parallel-item::before {content: \"\";position: absolute;border-left: 1px solid gray;box-sizing: border-box;top: 0;bottom: 0;left: 50%;z-index: -1;}#sk-container-id-1 div.sk-parallel-item {display: flex;flex-direction: column;z-index: 1;position: relative;background-color: white;}#sk-container-id-1 div.sk-parallel-item:first-child::after {align-self: flex-end;width: 50%;}#sk-container-id-1 div.sk-parallel-item:last-child::after {align-self: flex-start;width: 50%;}#sk-container-id-1 div.sk-parallel-item:only-child::after {width: 0;}#sk-container-id-1 div.sk-dashed-wrapped {border: 1px dashed gray;margin: 0 0.4em 0.5em 0.4em;box-sizing: border-box;padding-bottom: 0.4em;background-color: white;}#sk-container-id-1 div.sk-label label {font-family: monospace;font-weight: bold;display: inline-block;line-height: 1.2em;}#sk-container-id-1 div.sk-label-container {text-align: center;}#sk-container-id-1 div.sk-container {/* jupyter's `normalize.less` sets `[hidden] { display: none; }` but bootstrap.min.css set `[hidden] { display: none !important; }` so we also need the `!important` here to be able to override the default hidden behavior on the sphinx rendered scikit-learn.org. See: https://github.com/scikit-learn/scikit-learn/issues/21755 */display: inline-block !important;position: relative;}#sk-container-id-1 div.sk-text-repr-fallback {display: none;}</style><div id=\"sk-container-id-1\" class=\"sk-top-container\"><div class=\"sk-text-repr-fallback\"><pre>NearestNeighbors(algorithm=&#x27;brute&#x27;, metric=&#x27;cosine&#x27;)</pre><b>In a Jupyter environment, please rerun this cell to show the HTML representation or trust the notebook. <br />On GitHub, the HTML representation is unable to render, please try loading this page with nbviewer.org.</b></div><div class=\"sk-container\" hidden><div class=\"sk-item\"><div class=\"sk-estimator sk-toggleable\"><input class=\"sk-toggleable__control sk-hidden--visually\" id=\"sk-estimator-id-1\" type=\"checkbox\" checked><label for=\"sk-estimator-id-1\" class=\"sk-toggleable__label sk-toggleable__label-arrow\">NearestNeighbors</label><div class=\"sk-toggleable__content\"><pre>NearestNeighbors(algorithm=&#x27;brute&#x27;, metric=&#x27;cosine&#x27;)</pre></div></div></div></div></div>"
      ],
      "text/plain": [
       "NearestNeighbors(algorithm='brute', metric='cosine')"
      ]
     },
     "execution_count": 6,
     "metadata": {},
     "output_type": "execute_result"
    }
   ],
   "source": [
    "from sklearn.neighbors import NearestNeighbors\n",
    "model_knn = NearestNeighbors(metric = 'cosine', algorithm = 'brute')\n",
    "model_knn.fit(points)"
   ]
  },
  {
   "cell_type": "code",
   "execution_count": null,
   "id": "5fff324c-f685-4e99-abb2-eca1c5cce4bf",
   "metadata": {},
   "outputs": [],
   "source": []
  },
  {
   "cell_type": "code",
   "execution_count": 7,
   "id": "118d46cf-7d26-421a-9f7b-0bdeba6effe6",
   "metadata": {},
   "outputs": [
    {
     "name": "stdout",
     "output_type": "stream",
     "text": [
      "[[0.         0.3138237  0.37973146 0.44040063 0.44724591 0.46693049\n",
      "  0.47444272 0.47514396 0.4824556  0.48299232]] [[200 342 382 435  81 344  44  89  24 351]]\n"
     ]
    }
   ],
   "source": [
    "distances, indices = model_knn.kneighbors(table.iloc[200].values.reshape(1, -1), n_neighbors = 10)\n",
    "print(distances,indices)"
   ]
  },
  {
   "cell_type": "code",
   "execution_count": 8,
   "id": "26aaa858-567a-417e-b4e0-caa066b77da6",
   "metadata": {},
   "outputs": [
    {
     "data": {
      "text/plain": [
       "'10 Things I Hate About You (1999)'"
      ]
     },
     "execution_count": 8,
     "metadata": {},
     "output_type": "execute_result"
    }
   ],
   "source": [
    "table.index.values[0]"
   ]
  },
  {
   "cell_type": "code",
   "execution_count": 9,
   "id": "feb0ab9a-9bcc-41aa-8834-af438904301c",
   "metadata": {},
   "outputs": [
    {
     "name": "stdout",
     "output_type": "stream",
     "text": [
      "Recommendations for 12 Angry Men (1957):\n",
      "\n",
      "1: Shaun of the Dead (2004), with distance of 0.31382370004269133:\n",
      "2: Superbad (2007), with distance of 0.37973145855538504:\n",
      "3: Zombieland (2009), with distance of 0.44040062622041143:\n",
      "4: Casino Royale (2006), with distance of 0.4472459073266031:\n",
      "5: Sherlock Holmes (2009), with distance of 0.46693049182809276:\n",
      "6: Batman Begins (2005), with distance of 0.47444271734516363:\n",
      "7: Children of Men (2006), with distance of 0.4751439594598079:\n",
      "8: Anchorman: The Legend of Ron Burgundy (2004), with distance of 0.48245559894494305:\n",
      "9: Sin City (2005), with distance of 0.48299232006606285:\n"
     ]
    }
   ],
   "source": [
    "for i in range(0, len(distances[0])):\n",
    "    if i == 0:\n",
    "        print('Recommendations for {0}:\\n'.format(table.index[1]))\n",
    "    else:\n",
    "        print('{0}: {1}, with distance of {2}:'.format(i, table.index[indices[0][i]], distances[0][i]))\n"
   ]
  },
  {
   "cell_type": "code",
   "execution_count": 10,
   "id": "232be676-a199-4009-a1ad-0adb82ee914b",
   "metadata": {},
   "outputs": [
    {
     "name": "stdout",
     "output_type": "stream",
     "text": [
      "Index of Sin City (2005) : 351\n"
     ]
    }
   ],
   "source": [
    "query = \"Sin City (2005)\" \n",
    "\n",
    "if query in table.index.values:\n",
    "    index_of_title = table.index.get_loc(query)\n",
    "    print(\"Index of\", query, \":\", index_of_title)\n",
    "else:\n",
    "    print(\"Title not found in the DataFrame.\")\n"
   ]
  },
  {
   "cell_type": "code",
   "execution_count": null,
   "id": "9b15d3ae-4526-450d-8ee0-c5b86208f08d",
   "metadata": {},
   "outputs": [],
   "source": []
  }
 ],
 "metadata": {
  "kernelspec": {
   "display_name": "Python 3 (ipykernel)",
   "language": "python",
   "name": "python3"
  },
  "language_info": {
   "codemirror_mode": {
    "name": "ipython",
    "version": 3
   },
   "file_extension": ".py",
   "mimetype": "text/x-python",
   "name": "python",
   "nbconvert_exporter": "python",
   "pygments_lexer": "ipython3",
   "version": "3.9.6"
  }
 },
 "nbformat": 4,
 "nbformat_minor": 5
}
